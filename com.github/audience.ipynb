{
 "cells": [
  {
   "cell_type": "code",
   "execution_count": null,
   "id": "5403c6ee",
   "metadata": {},
   "outputs": [],
   "source": [
    "%load_ext kamu\n",
    "import kamu\n",
    "con = kamu.connect()"
   ]
  },
  {
   "cell_type": "code",
   "execution_count": null,
   "id": "2f02c212-0d6f-4bc3-8fd2-47fa5c08b6a7",
   "metadata": {},
   "outputs": [],
   "source": [
    "%%sql\n",
    "select * from \"com.github.kamu-data.stargazers\" limit 3"
   ]
  },
  {
   "cell_type": "code",
   "execution_count": null,
   "id": "56de145d",
   "metadata": {},
   "outputs": [],
   "source": [
    "%%sql -o gh_stars -q\n",
    "select\n",
    "    starred_at as event_time,\n",
    "    row_number() over (order by starred_at) as stars\n",
    "from \"com.github.kamu-data.stargazers\""
   ]
  },
  {
   "cell_type": "code",
   "execution_count": null,
   "id": "8d04639b",
   "metadata": {},
   "outputs": [],
   "source": [
    "import os\n",
    "import numpy as np\n",
    "import xarray as xr\n",
    "import pandas as pd\n",
    "import matplotlib.pyplot as plt\n",
    "import hvplot.pandas\n",
    "import hvplot.xarray\n",
    "import holoviews as hv\n",
    "from datetime import datetime\n",
    "pd.set_option('max_colwidth', None)"
   ]
  },
  {
   "cell_type": "code",
   "execution_count": null,
   "id": "8343ca52",
   "metadata": {},
   "outputs": [],
   "source": [
    "# Using current numbers and lerping them over time using github history\n",
    "# Valid as of: 2023-03-02\n",
    "medium = 28 + 32\n",
    "youtube = 65\n",
    "discord = 40\n",
    "mailchimp = 106\n",
    "linkedin = 82"
   ]
  },
  {
   "cell_type": "code",
   "execution_count": null,
   "id": "3c06284b",
   "metadata": {},
   "outputs": [],
   "source": [
    "def lerp(a: float, b: float, t: float) -> float:\n",
    "    return (1 - t) * a + t * b\n",
    "\n",
    "def adlerp(start, end, distribution, offset):\n",
    "    d = []\n",
    "    m = distribution.max()\n",
    "    for x in distribution.values:\n",
    "        t = float(x) / float(m)\n",
    "        if t < offset:\n",
    "            toff = 0.0\n",
    "        else:\n",
    "            toff = (t - offset) / (1 - offset)\n",
    "        v = lerp(float(start), float(end), toff)\n",
    "        d.append(int(v))\n",
    "    return d\n",
    "\n",
    "\n",
    "community = gh_stars.copy()\n",
    "\n",
    "community[\"Medium\"] = adlerp(0, medium, gh_stars.stars, 0.0)\n",
    "community[\"YouTube\"] = adlerp(0, youtube, gh_stars.stars, 0.3)\n",
    "community[\"Discord\"] = adlerp(0, discord, gh_stars.stars, 0.6)\n",
    "community[\"News\"] = adlerp(0, mailchimp, gh_stars.stars, 0.0)\n",
    "community[\"LinkedIn\"] = adlerp(0, linkedin, gh_stars.stars, 0.5)\n",
    "\n",
    "community = community.rename(columns={\"stars\": \"GitHub\"})\n",
    "community"
   ]
  },
  {
   "cell_type": "code",
   "execution_count": null,
   "id": "3eecc583",
   "metadata": {},
   "outputs": [],
   "source": [
    "from bokeh.models.formatters import DatetimeTickFormatter\n",
    "\n",
    "formatter = DatetimeTickFormatter(months='%b %Y')\n",
    "\n",
    "hv.renderer('bokeh').theme = None\n",
    "community.hvplot.area(\n",
    "    x=\"event_time\", \n",
    "    y=[\"GitHub\", \"Medium\", \"News\", \"LinkedIn\", \"YouTube\", \"Discord\"],\n",
    "    color=[\"#74A5FF\", \"#FFC382\", \"#A45A7F\", \"#E14ADF\", \"#FF6F41\", \"#2ABC9B\"],\n",
    "    #title=\"Community\",\n",
    "    xlabel=\"Date\",\n",
    "    ylabel=\"Audience\",\n",
    "    legend=\"top_left\",\n",
    "    line_color=None,\n",
    "    xformatter=DatetimeTickFormatter(months='%b %Y'),\n",
    "    #grid=True,\n",
    "    height=500,\n",
    "    width=800,\n",
    ")"
   ]
  },
  {
   "cell_type": "code",
   "execution_count": null,
   "id": "aaba6483",
   "metadata": {},
   "outputs": [],
   "source": []
  }
 ],
 "metadata": {
  "kernelspec": {
   "display_name": "Python 3 (ipykernel)",
   "language": "python",
   "name": "python3"
  },
  "language_info": {
   "codemirror_mode": {
    "name": "ipython",
    "version": 3
   },
   "file_extension": ".py",
   "mimetype": "text/x-python",
   "name": "python",
   "nbconvert_exporter": "python",
   "pygments_lexer": "ipython3",
   "version": "3.12.8"
  }
 },
 "nbformat": 4,
 "nbformat_minor": 5
}
