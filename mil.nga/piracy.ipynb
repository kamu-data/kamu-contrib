{
 "cells": [
  {
   "cell_type": "code",
   "execution_count": null,
   "metadata": {},
   "outputs": [],
   "source": [
    "%load_ext kamu"
   ]
  },
  {
   "cell_type": "code",
   "execution_count": null,
   "metadata": {},
   "outputs": [],
   "source": [
    "%import_dataset mil.nga.msi.asam --alias piracy"
   ]
  },
  {
   "cell_type": "code",
   "execution_count": null,
   "metadata": {},
   "outputs": [],
   "source": [
    "piracy.printSchema()"
   ]
  },
  {
   "cell_type": "code",
   "execution_count": null,
   "metadata": {},
   "outputs": [],
   "source": [
    "%%sql -o piracy -n 999999\n",
    "    select \n",
    "    reference, \n",
    "    cast(event_time as string) as event_time, \n",
    "    st_asgeojson(geometry) as geometry,\n",
    "    subreg,\n",
    "    hostility,\n",
    "    --victim_d,\n",
    "    --descriptio,\n",
    "    hostilityt,\n",
    "    hostilit_D,\n",
    "    victim_l,\n",
    "    victim_l_D,\n",
    "    navarea\n",
    "from piracy"
   ]
  },
  {
   "cell_type": "code",
   "execution_count": null,
   "metadata": {},
   "outputs": [],
   "source": [
    "%%local\n",
    "import json\n",
    "\n",
    "# For every row we first combine GeoJson geometry with other columns into a Feature object\n",
    "# Then we combine all Features into a FeatureCollection\n",
    "def df_to_geojson(df, geom='geometry', props=None):\n",
    "    if props is None:\n",
    "        props = [\n",
    "            c for c in df.columns\n",
    "            if c != geom\n",
    "        ]\n",
    "    \n",
    "    return {\n",
    "        \"type\": \"FeatureCollection\",\n",
    "        \"features\": [\n",
    "            {\n",
    "                \"type\": \"Feature\",\n",
    "                \"geometry\": json.loads(row[geom]),\n",
    "                \"properties\": {p: str(row[p]) for p in props}\n",
    "            }\n",
    "            for _, row in df.iterrows()\n",
    "        ]\n",
    "    }\n",
    "\n",
    "gj = df_to_geojson(piracy)"
   ]
  },
  {
   "cell_type": "code",
   "execution_count": null,
   "metadata": {},
   "outputs": [],
   "source": [
    "%%local\n",
    "import os\n",
    "from mapboxgl.viz import *\n",
    "from mapboxgl.utils import *\n",
    "\n",
    "# Must be a public token, starting with `pk`\n",
    "token = os.getenv('MAPBOX_ACCESS_TOKEN')\n",
    "\n",
    "viz = CircleViz(\n",
    "    gj,\n",
    "    style='mapbox://styles/mapbox/dark-v10',\n",
    "    center=(-123.1207, 49.2827),\n",
    "    zoom=1,\n",
    "    access_token=token,\n",
    "    radius=2,\n",
    "    color_default=\"rgb(255,0,0)\",\n",
    "    #color_property='current_total_value',\n",
    "    #color_stops=create_color_stops([1000000, 2000000, 3000000, 5000000, 10000000], colors='YlOrRd'),\n",
    "    #color_default='rgb(158,202,195)',\n",
    "    #line_width=0,\n",
    "    #opacity=1.0,\n",
    "    #legend_layout='horizontal',\n",
    "    #legend_key_shape='bar',\n",
    "    #legend_key_borders_on=False\n",
    ")\n",
    "\n",
    "viz.show()"
   ]
  },
  {
   "cell_type": "code",
   "execution_count": null,
   "metadata": {},
   "outputs": [],
   "source": []
  }
 ],
 "metadata": {
  "kernelspec": {
   "display_name": "PySpark",
   "language": "python",
   "name": "pysparkkernel"
  },
  "language_info": {
   "codemirror_mode": {
    "name": "python",
    "version": 3
   },
   "file_extension": ".py",
   "mimetype": "text/x-python",
   "name": "pyspark",
   "pygments_lexer": "python3"
  }
 },
 "nbformat": 4,
 "nbformat_minor": 4
}
