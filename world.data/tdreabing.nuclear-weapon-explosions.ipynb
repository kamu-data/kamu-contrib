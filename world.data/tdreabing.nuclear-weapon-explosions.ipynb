{
 "cells": [
  {
   "cell_type": "code",
   "execution_count": null,
   "metadata": {},
   "outputs": [],
   "source": [
    "%load_ext kamu"
   ]
  },
  {
   "cell_type": "code",
   "execution_count": null,
   "metadata": {},
   "outputs": [],
   "source": [
    "%import_dataset world.data.tdreabing.nuclear-weapon-explosions --alias nucl"
   ]
  },
  {
   "cell_type": "code",
   "execution_count": null,
   "metadata": {},
   "outputs": [],
   "source": [
    "nucl.printSchema()\n",
    "nucl.count()"
   ]
  },
  {
   "cell_type": "code",
   "execution_count": null,
   "metadata": {},
   "outputs": [],
   "source": [
    "%%sql\n",
    "select\n",
    "    country,\n",
    "    count(*) as count \n",
    "from nucl\n",
    "group by country"
   ]
  },
  {
   "cell_type": "code",
   "execution_count": null,
   "metadata": {},
   "outputs": [],
   "source": [
    "%%sql -n 999999 -o df\n",
    "select * from nucl"
   ]
  },
  {
   "cell_type": "code",
   "execution_count": null,
   "metadata": {},
   "outputs": [],
   "source": [
    "%%local\n",
    "import os\n",
    "\n",
    "import pandas as pd\n",
    "\n",
    "from mapboxgl.utils import create_color_stops, df_to_geojson\n",
    "from mapboxgl.viz import CircleViz\n",
    "\n",
    "# Must be a public token, starting with `pk`\n",
    "token = os.getenv('MAPBOX_ACCESS_TOKEN')\n",
    "\n",
    "# Create a geojson file export from a Pandas dataframe\n",
    "df['date'] = df['event_time'].astype(str)\n",
    "gj = df_to_geojson(\n",
    "    df, properties=[\n",
    "        'date', 'source', 'country', 'name', 'confirmation', \n",
    "        'medium', 'depth', 'mb', 'max_yield', 'salvo',\n",
    "    ],\n",
    "    lat='latitude', lon='longitude', precision=3)\n",
    "\n",
    "# Generate data breaks and color stops from colorBrewer\n",
    "color_breaks = [0,20,40,60,80,100]\n",
    "color_stops = create_color_stops(color_breaks, colors='YlOrRd')\n",
    "\n",
    "# Create the viz from the dataframe\n",
    "viz = CircleViz(\n",
    "    gj,\n",
    "    style='mapbox://styles/mapbox/dark-v10',\n",
    "    access_token=token,\n",
    "    radius=5,\n",
    "    stroke_color='black',\n",
    "    stroke_width=0.2,\n",
    "    height='600px',\n",
    "    color_property=\"max_yield\",\n",
    "    color_stops=color_stops,\n",
    "    center=(-95, 40),\n",
    "    zoom=3,\n",
    "    below_layer = 'waterway-label'\n",
    ")\n",
    "viz.show()"
   ]
  },
  {
   "cell_type": "code",
   "execution_count": null,
   "metadata": {},
   "outputs": [],
   "source": [
    "%%local\n",
    "viz = ClusteredCircleViz(\n",
    "    gj,\n",
    "    style='mapbox://styles/mapbox/dark-v10',\n",
    "    height='600px',\n",
    "    access_token=token,\n",
    "    color_stops=color_stops,\n",
    "    radius_stops=[[1,5], [10, 10], [50, 15], [100, 20]],\n",
    "    radius_default=4,\n",
    "    cluster_maxzoom=10,\n",
    "    cluster_radius=15,\n",
    "    label_size=12,\n",
    "    opacity=0.9,\n",
    "    center=(-95, 40),\n",
    "    zoom=3,\n",
    ")\n",
    "\n",
    "viz.show()"
   ]
  },
  {
   "cell_type": "code",
   "execution_count": null,
   "metadata": {},
   "outputs": [],
   "source": []
  }
 ],
 "metadata": {
  "kernelspec": {
   "display_name": "PySpark",
   "language": "",
   "name": "pysparkkernel"
  },
  "language_info": {
   "codemirror_mode": {
    "name": "python",
    "version": 2
   },
   "mimetype": "text/x-python",
   "name": "pyspark",
   "pygments_lexer": "python2"
  }
 },
 "nbformat": 4,
 "nbformat_minor": 2
}
