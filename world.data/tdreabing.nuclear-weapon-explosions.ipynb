{
 "cells": [
  {
   "cell_type": "code",
   "execution_count": null,
   "metadata": {},
   "outputs": [],
   "source": [
    "%load_ext kamu\n",
    "import kamu\n",
    "con = kamu.connect()"
   ]
  },
  {
   "cell_type": "code",
   "execution_count": null,
   "metadata": {},
   "outputs": [],
   "source": [
    "%%sql\n",
    "select * from \"world.data.tdreabing.nuclear-weapon-explosions\" limit 3"
   ]
  },
  {
   "cell_type": "code",
   "execution_count": null,
   "metadata": {},
   "outputs": [],
   "source": [
    "%%sql\n",
    "select count(*) from \"world.data.tdreabing.nuclear-weapon-explosions\""
   ]
  },
  {
   "cell_type": "code",
   "execution_count": null,
   "metadata": {},
   "outputs": [],
   "source": [
    "%%sql\n",
    "describe \"world.data.tdreabing.nuclear-weapon-explosions\""
   ]
  },
  {
   "cell_type": "code",
   "execution_count": null,
   "metadata": {},
   "outputs": [],
   "source": [
    "%%sql\n",
    "select\n",
    "    country,\n",
    "    count(*) as count \n",
    "from \"world.data.tdreabing.nuclear-weapon-explosions\"\n",
    "group by country"
   ]
  },
  {
   "cell_type": "code",
   "execution_count": null,
   "metadata": {},
   "outputs": [],
   "source": [
    "%%sql -o df -q\n",
    "select * from \"world.data.tdreabing.nuclear-weapon-explosions\""
   ]
  },
  {
   "cell_type": "code",
   "execution_count": null,
   "metadata": {},
   "outputs": [],
   "source": [
    "import os\n",
    "\n",
    "import pandas as pd\n",
    "\n",
    "from mapboxgl.utils import create_color_stops, df_to_geojson\n",
    "from mapboxgl.viz import CircleViz, ClusteredCircleViz\n",
    "\n",
    "# Must be a public token, starting with `pk`\n",
    "token = os.getenv('MAPBOX_ACCESS_TOKEN')\n",
    "\n",
    "# Create a geojson file export from a Pandas dataframe\n",
    "df['date'] = df['event_time'].astype(str)\n",
    "gj = df_to_geojson(\n",
    "    df, properties=[\n",
    "        'date', 'source', 'country', 'name', 'confirmation', \n",
    "        'medium', 'depth', 'mb', 'max_yield', 'salvo',\n",
    "    ],\n",
    "    lat='latitude', lon='longitude', precision=3)\n",
    "\n",
    "# Generate data breaks and color stops from colorBrewer\n",
    "color_breaks = [0,20,40,60,80,100]\n",
    "color_stops = create_color_stops(color_breaks, colors='YlOrRd')\n",
    "\n",
    "# Create the viz from the dataframe\n",
    "viz = CircleViz(\n",
    "    gj,\n",
    "    style='mapbox://styles/mapbox/dark-v10',\n",
    "    access_token=token,\n",
    "    radius=5,\n",
    "    stroke_color='black',\n",
    "    stroke_width=0.2,\n",
    "    height='600px',\n",
    "    color_property=\"max_yield\",\n",
    "    color_stops=color_stops,\n",
    "    center=(-95, 40),\n",
    "    zoom=3,\n",
    "    below_layer = 'waterway-label'\n",
    ")\n",
    "viz.show()"
   ]
  },
  {
   "cell_type": "code",
   "execution_count": null,
   "metadata": {},
   "outputs": [],
   "source": [
    "viz = ClusteredCircleViz(\n",
    "    gj,\n",
    "    style='mapbox://styles/mapbox/dark-v10',\n",
    "    height='600px',\n",
    "    access_token=token,\n",
    "    color_stops=color_stops,\n",
    "    radius_stops=[[1,5], [10, 10], [50, 15], [100, 20]],\n",
    "    radius_default=4,\n",
    "    cluster_maxzoom=10,\n",
    "    cluster_radius=15,\n",
    "    label_size=12,\n",
    "    opacity=0.9,\n",
    "    center=(-95, 40),\n",
    "    zoom=3,\n",
    ")\n",
    "\n",
    "viz.show()"
   ]
  },
  {
   "cell_type": "code",
   "execution_count": null,
   "metadata": {},
   "outputs": [],
   "source": []
  }
 ],
 "metadata": {
  "kernelspec": {
   "display_name": "Python 3 (ipykernel)",
   "language": "python",
   "name": "python3"
  },
  "language_info": {
   "codemirror_mode": {
    "name": "ipython",
    "version": 3
   },
   "file_extension": ".py",
   "mimetype": "text/x-python",
   "name": "python",
   "nbconvert_exporter": "python",
   "pygments_lexer": "ipython3",
   "version": "3.12.8"
  }
 },
 "nbformat": 4,
 "nbformat_minor": 4
}
