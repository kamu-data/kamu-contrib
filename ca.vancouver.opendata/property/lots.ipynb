{
 "cells": [
  {
   "cell_type": "code",
   "execution_count": null,
   "metadata": {},
   "outputs": [],
   "source": [
    "%load_ext kamu"
   ]
  },
  {
   "cell_type": "code",
   "execution_count": null,
   "metadata": {},
   "outputs": [],
   "source": [
    "%import_dataset ca.vancouver.data.property-information.property-parcel-polygons --alias lots"
   ]
  },
  {
   "cell_type": "code",
   "execution_count": null,
   "metadata": {},
   "outputs": [],
   "source": [
    "print(lots.count())\n",
    "lots.printSchema()\n",
    "lots.show(3)"
   ]
  },
  {
   "cell_type": "code",
   "execution_count": null,
   "metadata": {},
   "outputs": [],
   "source": [
    "%import_dataset ca.vancouver.data.property-tax-report --alias tax"
   ]
  },
  {
   "cell_type": "code",
   "execution_count": null,
   "metadata": {},
   "outputs": [],
   "source": [
    "print(tax.count())\n",
    "tax.printSchema()\n",
    "tax.show(3)"
   ]
  },
  {
   "cell_type": "code",
   "execution_count": null,
   "metadata": {},
   "outputs": [],
   "source": [
    "%%sql\n",
    "CREATE OR REPLACE TEMP VIEW lots_tax AS (\n",
    "SELECT\n",
    "    l.tax_coord,\n",
    "    l.geometry, \n",
    "    t.current_land_value, \n",
    "    t.current_improvement_value\n",
    "FROM lots as l\n",
    "LEFT JOIN tax as t\n",
    "ON l.tax_coord = t.land_coordinate\n",
    "WHERE t.tax_assessment_year = 2018\n",
    ")"
   ]
  },
  {
   "cell_type": "code",
   "execution_count": null,
   "metadata": {},
   "outputs": [],
   "source": [
    "%%sql -o df -n 1000000\n",
    "SELECT\n",
    "    tax_coord,\n",
    "    ST_AsText(geometry) as geometry,\n",
    "--    current_land_value + current_improvement_value as current_total_value\n",
    "    RAND() * 5000000 as current_total_value\n",
    "--FROM lots_tax\n",
    "FROM lots"
   ]
  },
  {
   "cell_type": "code",
   "execution_count": null,
   "metadata": {},
   "outputs": [],
   "source": [
    "%%local\n",
    "import shapely.wkt\n",
    "import geojson\n",
    "\n",
    "def df_to_geojson(df, geom='geometry', props=None):\n",
    "    if props is None:\n",
    "        props = [\n",
    "            c for c in df.columns\n",
    "            if c != geom\n",
    "        ]\n",
    "\n",
    "    return geojson.FeatureCollection([\n",
    "        geojson.Feature(\n",
    "            geometry=shapely.wkt.loads(r[geom]),\n",
    "            properties={p: r[p] for p in props}\n",
    "        )\n",
    "        for _, r in df.iterrows()\n",
    "    ])"
   ]
  },
  {
   "cell_type": "code",
   "execution_count": null,
   "metadata": {},
   "outputs": [],
   "source": [
    "%%local\n",
    "gj = df_to_geojson(df)"
   ]
  },
  {
   "cell_type": "code",
   "execution_count": null,
   "metadata": {},
   "outputs": [],
   "source": [
    "%%local\n",
    "import os\n",
    "from mapboxgl.viz import *\n",
    "from mapboxgl.utils import *\n",
    "\n",
    "# Must be a public token, starting with `pk`\n",
    "token = os.getenv('MAPBOX_ACCESS_TOKEN')"
   ]
  },
  {
   "cell_type": "code",
   "execution_count": null,
   "metadata": {},
   "outputs": [],
   "source": [
    "%%local\n",
    "viz = ChoroplethViz(\n",
    "    gj,\n",
    "    style='mapbox://styles/mapbox/dark-v10',\n",
    "    center=(-123.1207, 49.2827),\n",
    "    zoom=10,\n",
    "    access_token=token,\n",
    "    color_property='current_total_value',\n",
    "    color_stops=create_color_stops([750000, 1000000, 2000000, 3000000, 5000000], colors='YlOrRd'),\n",
    "    color_default='rgb(158,202,195)',\n",
    "    line_stroke='solid',\n",
    "    line_width=0.1,\n",
    "    line_color='rgb(128,0,38)',\n",
    "    opacity=0.8,\n",
    "    legend_layout='horizontal',\n",
    "    legend_key_shape='bar',\n",
    "    legend_key_borders_on=False)\n",
    "\n",
    "viz.show()"
   ]
  },
  {
   "cell_type": "code",
   "execution_count": null,
   "metadata": {},
   "outputs": [],
   "source": []
  }
 ],
 "metadata": {
  "kernelspec": {
   "display_name": "PySpark",
   "language": "",
   "name": "pysparkkernel"
  },
  "language_info": {
   "codemirror_mode": {
    "name": "python",
    "version": 2
   },
   "mimetype": "text/x-python",
   "name": "pyspark",
   "pygments_lexer": "python2"
  }
 },
 "nbformat": 4,
 "nbformat_minor": 2
}
