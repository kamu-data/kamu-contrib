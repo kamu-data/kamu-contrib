{
 "cells": [
  {
   "cell_type": "code",
   "execution_count": null,
   "metadata": {},
   "outputs": [],
   "source": [
    "%load_ext kamu"
   ]
  },
  {
   "cell_type": "code",
   "execution_count": null,
   "metadata": {},
   "outputs": [],
   "source": [
    "%import_dataset ca.vancouver.opendata.property.block-outlines --alias blocks"
   ]
  },
  {
   "cell_type": "code",
   "execution_count": null,
   "metadata": {},
   "outputs": [],
   "source": [
    "%%sql\n",
    "select * from blocks limit 5"
   ]
  },
  {
   "cell_type": "code",
   "execution_count": null,
   "metadata": {},
   "outputs": [],
   "source": [
    "%import_dataset ca.vancouver.opendata.property.local-area-boundaries --alias hoods"
   ]
  },
  {
   "cell_type": "code",
   "execution_count": null,
   "metadata": {},
   "outputs": [],
   "source": [
    "%%sql\n",
    "select * from hoods limit 5"
   ]
  },
  {
   "cell_type": "code",
   "execution_count": null,
   "metadata": {},
   "outputs": [],
   "source": [
    "%%sql\n",
    "CREATE OR REPLACE TEMP VIEW blocks_with_id AS (\n",
    "    SELECT row_number() OVER (ORDER BY geometry) as id, geometry\n",
    "    FROM blocks\n",
    ")"
   ]
  },
  {
   "cell_type": "code",
   "execution_count": null,
   "metadata": {},
   "outputs": [],
   "source": [
    "%%sql\n",
    "CREATE OR REPLACE TEMP VIEW blocks_by_hood AS (\n",
    "    SELECT b.geometry, b.id as block_id, h.mapid as hood_id, h.name as hood_name\n",
    "    FROM blocks_with_id as b\n",
    "    INNER JOIN hoods as h\n",
    "    ON ST_Intersects(b.geometry, h.geometry)\n",
    ")"
   ]
  },
  {
   "cell_type": "code",
   "execution_count": null,
   "metadata": {},
   "outputs": [],
   "source": [
    "%%sql -o df -n 1000000\n",
    "SELECT \n",
    "    ST_AsText(geometry) as geometry, block_id, hood_id, hood_name, RAND() as density\n",
    "FROM blocks_by_hood"
   ]
  },
  {
   "cell_type": "code",
   "execution_count": null,
   "metadata": {},
   "outputs": [],
   "source": [
    "%%local\n",
    "import shapely.wkt\n",
    "import geojson\n",
    "\n",
    "def df_to_geojson(df, geom='geometry', props=None):\n",
    "    if props is None:\n",
    "        props = [\n",
    "            c for c in df.columns\n",
    "            if c != geom\n",
    "        ]\n",
    "\n",
    "    return geojson.FeatureCollection([\n",
    "        geojson.Feature(\n",
    "            geometry=shapely.wkt.loads(r[geom]),\n",
    "            properties={p: r[p] for p in props}\n",
    "        )\n",
    "        for _, r in df.iterrows()\n",
    "    ])"
   ]
  },
  {
   "cell_type": "code",
   "execution_count": null,
   "metadata": {},
   "outputs": [],
   "source": [
    "%%local\n",
    "gj = df_to_geojson(df)"
   ]
  },
  {
   "cell_type": "code",
   "execution_count": null,
   "metadata": {},
   "outputs": [],
   "source": [
    "%%local\n",
    "import os\n",
    "from mapboxgl.viz import *\n",
    "from mapboxgl.utils import *\n",
    "\n",
    "# Must be a public token, starting with `pk`\n",
    "token = os.getenv('MAPBOX_ACCESS_TOKEN')"
   ]
  },
  {
   "cell_type": "code",
   "execution_count": null,
   "metadata": {},
   "outputs": [],
   "source": [
    "%%local\n",
    "viz = ChoroplethViz(\n",
    "    gj,\n",
    "    style='mapbox://styles/mapbox/dark-v10',\n",
    "    center=(-123.1207, 49.2827),\n",
    "    zoom=10,\n",
    "    access_token=token,\n",
    "    color_property='density',\n",
    "    color_stops=create_color_stops([0.25, 0.5, 0.75, 1.0], colors='YlOrRd'),\n",
    "    line_stroke='solid',\n",
    "    line_width=0.1,\n",
    "    line_color='rgb(128,0,38)',\n",
    "    opacity=0.8,\n",
    "    legend_layout='horizontal',\n",
    "    legend_key_shape='bar',\n",
    "    legend_key_borders_on=False)\n",
    "\n",
    "viz.show()"
   ]
  },
  {
   "cell_type": "code",
   "execution_count": null,
   "metadata": {},
   "outputs": [],
   "source": [
    "%%local\n",
    "# adjust view angle\n",
    "viz.bearing = -15\n",
    "viz.pitch = 45\n",
    "\n",
    "# add extrusion to viz using interpolation keyed on density in GeoJSON features\n",
    "viz.height_property = 'density'\n",
    "viz.height_stops = create_numeric_stops([0, 1], 0, 500)\n",
    "viz.height_function_type = 'interpolate'\n",
    "viz.opacity = 1\n",
    "\n",
    "# render again\n",
    "viz.show()"
   ]
  },
  {
   "cell_type": "code",
   "execution_count": null,
   "metadata": {},
   "outputs": [],
   "source": []
  }
 ],
 "metadata": {
  "kernelspec": {
   "display_name": "PySpark",
   "language": "",
   "name": "pysparkkernel"
  },
  "language_info": {
   "codemirror_mode": {
    "name": "python",
    "version": 2
   },
   "mimetype": "text/x-python",
   "name": "pyspark",
   "pygments_lexer": "python2"
  }
 },
 "nbformat": 4,
 "nbformat_minor": 2
}
