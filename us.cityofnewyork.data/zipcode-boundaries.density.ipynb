{
 "cells": [
  {
   "cell_type": "code",
   "execution_count": null,
   "metadata": {},
   "outputs": [],
   "source": [
    "%load_ext kamu\n",
    "import kamu\n",
    "con = kamu.connect(engine=\"spark\")"
   ]
  },
  {
   "cell_type": "code",
   "execution_count": null,
   "metadata": {},
   "outputs": [],
   "source": [
    "%%sql\n",
    "select * from `us.cityofnewyork.data.zipcode-boundaries` limit 3"
   ]
  },
  {
   "cell_type": "code",
   "execution_count": null,
   "metadata": {},
   "outputs": [],
   "source": [
    "%%sql\n",
    "describe `us.cityofnewyork.data.zipcode-boundaries`"
   ]
  },
  {
   "cell_type": "code",
   "execution_count": null,
   "metadata": {},
   "outputs": [],
   "source": [
    "%%sql -o population_density -q\n",
    "with with_area as (\n",
    "    select\n",
    "        geometry,\n",
    "        modzcta,\n",
    "        pop_est as population,\n",
    "        st_area(st_geomfromgeojson(geometry)) as area\n",
    "    from `us.cityofnewyork.data.zipcode-boundaries`\n",
    ")\n",
    "select\n",
    "    geometry,\n",
    "    modzcta,\n",
    "    population,\n",
    "    area,\n",
    "    population / area as density\n",
    "from with_area"
   ]
  },
  {
   "cell_type": "code",
   "execution_count": null,
   "metadata": {},
   "outputs": [],
   "source": [
    "import os\n",
    "from mapboxgl.viz import *\n",
    "from mapboxgl.utils import *\n",
    "import kamu.utils\n",
    "\n",
    "# Must be a public token, starting with `pk`\n",
    "token = os.getenv('MAPBOX_ACCESS_TOKEN')\n",
    "\n",
    "num_max = population_density.density.max()\n",
    "stops = [i * num_max / 4 for i in range(4)]\n",
    "\n",
    "viz = ChoroplethViz(\n",
    "    kamu.utils.df_to_geojson(population_density),\n",
    "    style='mapbox://styles/mapbox/dark-v10',\n",
    "    center=(-74.068266, 40.7019673), zoom=9,\n",
    "    access_token=token,\n",
    "    color_property='density',\n",
    "    color_stops=create_color_stops(stops, colors='YlOrRd'),\n",
    "    color_function_type='interpolate',\n",
    "    line_stroke='solid',\n",
    "    line_width=0.3,\n",
    "    line_color='rgb(128,0,38)',\n",
    "    opacity=0.8,)\n",
    "viz.show()"
   ]
  },
  {
   "cell_type": "code",
   "execution_count": null,
   "metadata": {},
   "outputs": [],
   "source": []
  }
 ],
 "metadata": {
  "kernelspec": {
   "display_name": "Python 3 (ipykernel)",
   "language": "python",
   "name": "python3"
  },
  "language_info": {
   "codemirror_mode": {
    "name": "ipython",
    "version": 3
   },
   "file_extension": ".py",
   "mimetype": "text/x-python",
   "name": "python",
   "nbconvert_exporter": "python",
   "pygments_lexer": "ipython3",
   "version": "3.12.8"
  }
 },
 "nbformat": 4,
 "nbformat_minor": 4
}
