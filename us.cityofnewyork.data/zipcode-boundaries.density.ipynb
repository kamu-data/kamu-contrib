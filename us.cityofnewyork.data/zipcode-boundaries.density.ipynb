{
 "cells": [
  {
   "cell_type": "code",
   "execution_count": null,
   "metadata": {},
   "outputs": [],
   "source": [
    "%load_ext kamu"
   ]
  },
  {
   "cell_type": "code",
   "execution_count": null,
   "metadata": {},
   "outputs": [],
   "source": [
    "%import_dataset us.cityofnewyork.data.zipcode-boundaries --alias zipcodes"
   ]
  },
  {
   "cell_type": "code",
   "execution_count": null,
   "metadata": {},
   "outputs": [],
   "source": [
    "zipcodes.printSchema()"
   ]
  },
  {
   "cell_type": "code",
   "execution_count": null,
   "metadata": {},
   "outputs": [],
   "source": [
    "%%sql\n",
    "select po_name, sum(population) as population from zipcodes group by po_name order by po_name"
   ]
  },
  {
   "cell_type": "code",
   "execution_count": null,
   "metadata": {},
   "outputs": [],
   "source": [
    "%%sql\n",
    "select po_name, sum(population) as population from zipcodes group by po_name order by po_name"
   ]
  },
  {
   "cell_type": "code",
   "execution_count": null,
   "metadata": {},
   "outputs": [],
   "source": [
    "%%sql -o count_per_zipcode\n",
    "SELECT \n",
    "    zipcode,\n",
    "    last(po_name) as name,\n",
    "    sum(population) / sum(area) as density,\n",
    "    last(ST_AsText(ST_Transform(geometry, \"epsg:2263\", \"epsg:4326\"))) as geometry\n",
    "FROM zipcodes\n",
    "GROUP BY zipcode"
   ]
  },
  {
   "cell_type": "code",
   "execution_count": null,
   "metadata": {},
   "outputs": [],
   "source": [
    "%%local\n",
    "import shapely.wkt\n",
    "import geojson\n",
    "\n",
    "def df_to_geojson(df, geom='geometry', props=None):\n",
    "    if props is None:\n",
    "        props = [\n",
    "            c for c in df.columns\n",
    "            if c != geom\n",
    "        ]\n",
    "\n",
    "    return geojson.FeatureCollection([\n",
    "        geojson.Feature(\n",
    "            geometry=shapely.wkt.loads(r[geom]),\n",
    "            properties={p: r[p] for p in props}\n",
    "        )\n",
    "        for _, r in df.iterrows()\n",
    "    ])"
   ]
  },
  {
   "cell_type": "code",
   "execution_count": null,
   "metadata": {},
   "outputs": [],
   "source": [
    "%%local\n",
    "gj = df_to_geojson(count_per_zipcode)"
   ]
  },
  {
   "cell_type": "code",
   "execution_count": null,
   "metadata": {},
   "outputs": [],
   "source": [
    "%%local\n",
    "import os\n",
    "from mapboxgl.viz import *\n",
    "from mapboxgl.utils import *\n",
    "\n",
    "# Must be a public token, starting with `pk`\n",
    "token = os.getenv('MAPBOX_ACCESS_TOKEN')"
   ]
  },
  {
   "cell_type": "code",
   "execution_count": null,
   "metadata": {},
   "outputs": [],
   "source": [
    "%%local\n",
    "\n",
    "num_max = count_per_zipcode.density.max()\n",
    "stops = [i * num_max / 4 for i in range(4)]\n",
    "\n",
    "viz = ChoroplethViz(\n",
    "    gj, style='mapbox://styles/mapbox/dark-v10', center=(-74.068266, 40.7019673), zoom=9,\n",
    "    access_token=token,\n",
    "    color_property='density',\n",
    "    color_stops=create_color_stops(stops, colors='YlOrRd'),\n",
    "    color_function_type='interpolate',\n",
    "    line_stroke='solid',\n",
    "    line_width=0.3,\n",
    "    line_color='rgb(128,0,38)',\n",
    "    opacity=0.8,)\n",
    "viz.show()"
   ]
  },
  {
   "cell_type": "code",
   "execution_count": null,
   "metadata": {},
   "outputs": [],
   "source": []
  }
 ],
 "metadata": {
  "kernelspec": {
   "display_name": "PySpark",
   "language": "",
   "name": "pysparkkernel"
  },
  "language_info": {
   "codemirror_mode": {
    "name": "python",
    "version": 2
   },
   "mimetype": "text/x-python",
   "name": "pyspark",
   "pygments_lexer": "python2"
  }
 },
 "nbformat": 4,
 "nbformat_minor": 2
}
