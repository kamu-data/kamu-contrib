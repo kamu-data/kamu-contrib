{
 "cells": [
  {
   "cell_type": "code",
   "execution_count": null,
   "metadata": {},
   "outputs": [],
   "source": [
    "%load_ext kamu"
   ]
  },
  {
   "cell_type": "code",
   "execution_count": null,
   "metadata": {},
   "outputs": [],
   "source": [
    "%import_dataset us.cityofnewyork.data.zipcode-boundaries --alias zipcodes"
   ]
  },
  {
   "cell_type": "code",
   "execution_count": null,
   "metadata": {},
   "outputs": [],
   "source": [
    "zipcodes.printSchema()"
   ]
  },
  {
   "cell_type": "code",
   "execution_count": null,
   "metadata": {},
   "outputs": [],
   "source": [
    "%%sql\n",
    "select * from zipcodes limit 5"
   ]
  },
  {
   "cell_type": "code",
   "execution_count": null,
   "metadata": {},
   "outputs": [],
   "source": [
    "%%sql -o population_density\n",
    "with with_area as (\n",
    "    select\n",
    "        geometry,\n",
    "        modzcta,\n",
    "        pop_est as population,\n",
    "        st_area(st_geomfromgeojson(geometry)) as area\n",
    "    from zipcodes\n",
    ")\n",
    "select\n",
    "    geometry,\n",
    "    modzcta,\n",
    "    population,\n",
    "    area,\n",
    "    population / area as density\n",
    "from with_area"
   ]
  },
  {
   "cell_type": "code",
   "execution_count": null,
   "metadata": {},
   "outputs": [],
   "source": [
    "%%local\n",
    "import json\n",
    "\n",
    "# For every row we first combine GeoJson geometry with other columns into a Feature object\n",
    "# Then we combine all Features into a FeatureCollection\n",
    "def df_to_geojson(df, geom='geometry', props=None):\n",
    "    if props is None:\n",
    "        props = [\n",
    "            c for c in df.columns\n",
    "            if c != geom\n",
    "        ]\n",
    "    \n",
    "    return {\n",
    "        \"type\": \"FeatureCollection\",\n",
    "        \"features\": [\n",
    "            {\n",
    "                \"type\": \"Feature\",\n",
    "                \"geometry\": json.loads(row[geom]),\n",
    "                \"properties\": {p: row[p] for p in props}\n",
    "            }\n",
    "            for _, row in df.iterrows()\n",
    "        ]\n",
    "    }"
   ]
  },
  {
   "cell_type": "code",
   "execution_count": null,
   "metadata": {},
   "outputs": [],
   "source": [
    "%%local\n",
    "gj = df_to_geojson(population_density)"
   ]
  },
  {
   "cell_type": "code",
   "execution_count": null,
   "metadata": {},
   "outputs": [],
   "source": [
    "%%local\n",
    "import os\n",
    "from mapboxgl.viz import *\n",
    "from mapboxgl.utils import *\n",
    "\n",
    "# Must be a public token, starting with `pk`\n",
    "token = os.getenv('MAPBOX_ACCESS_TOKEN')\n",
    "\n",
    "num_max = population_density.density.max()\n",
    "stops = [i * num_max / 4 for i in range(4)]\n",
    "\n",
    "viz = ChoroplethViz(\n",
    "    gj, style='mapbox://styles/mapbox/dark-v10', center=(-74.068266, 40.7019673), zoom=9,\n",
    "    access_token=token,\n",
    "    color_property='density',\n",
    "    color_stops=create_color_stops(stops, colors='YlOrRd'),\n",
    "    color_function_type='interpolate',\n",
    "    line_stroke='solid',\n",
    "    line_width=0.3,\n",
    "    line_color='rgb(128,0,38)',\n",
    "    opacity=0.8,)\n",
    "viz.show()"
   ]
  },
  {
   "cell_type": "code",
   "execution_count": null,
   "metadata": {},
   "outputs": [],
   "source": []
  }
 ],
 "metadata": {
  "kernelspec": {
   "display_name": "PySpark",
   "language": "python",
   "name": "pysparkkernel"
  },
  "language_info": {
   "codemirror_mode": {
    "name": "python",
    "version": 3
   },
   "file_extension": ".py",
   "mimetype": "text/x-python",
   "name": "pyspark",
   "pygments_lexer": "python3"
  }
 },
 "nbformat": 4,
 "nbformat_minor": 2
}
