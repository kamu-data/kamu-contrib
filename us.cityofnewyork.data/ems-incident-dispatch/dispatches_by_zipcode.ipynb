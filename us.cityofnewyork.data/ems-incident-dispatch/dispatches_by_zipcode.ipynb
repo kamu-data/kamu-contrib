{
 "cells": [
  {
   "cell_type": "code",
   "execution_count": null,
   "metadata": {},
   "outputs": [],
   "source": [
    "%load_ext kamu"
   ]
  },
  {
   "cell_type": "code",
   "execution_count": null,
   "metadata": {},
   "outputs": [],
   "source": [
    "%import_dataset us.cityofnewyork.data.ems-incident-dispatch --alias dispatch"
   ]
  },
  {
   "cell_type": "code",
   "execution_count": null,
   "metadata": {},
   "outputs": [],
   "source": [
    "print(dispatch.count())\n",
    "dispatch.printSchema()"
   ]
  },
  {
   "cell_type": "code",
   "execution_count": null,
   "metadata": {},
   "outputs": [],
   "source": [
    "%%sql\n",
    "select * from dispatch limit 3"
   ]
  },
  {
   "cell_type": "code",
   "execution_count": null,
   "metadata": {},
   "outputs": [],
   "source": [
    "%import_dataset us.cityofnewyork.data.zipcode-boundaries --alias zipcodes"
   ]
  },
  {
   "cell_type": "code",
   "execution_count": null,
   "metadata": {},
   "outputs": [],
   "source": [
    "print(zipcodes.count())\n",
    "zipcodes.printSchema()"
   ]
  },
  {
   "cell_type": "code",
   "execution_count": null,
   "metadata": {},
   "outputs": [],
   "source": [
    "%%sql\n",
    "select * from zipcodes limit 3"
   ]
  },
  {
   "cell_type": "code",
   "execution_count": null,
   "metadata": {},
   "outputs": [],
   "source": [
    "%%sql -o count_per_zipcode\n",
    "SELECT \n",
    "    z.MODZCTA as zipcode,\n",
    "    IFNULL(d.num, 0) as num,\n",
    "    ST_AsText(ST_Transform(st_geomfromgeojson(geometry), \"epsg:2263\", \"epsg:4326\")) as geometry\n",
    "FROM zipcodes z\n",
    "LEFT JOIN (\n",
    "    SELECT count(*) as num, zipcode\n",
    "    FROM dispatch\n",
    "    WHERE zipcode IS NOT NULL\n",
    "    GROUP BY zipcode\n",
    ") as d ON z.MODZCTA = d.zipcode"
   ]
  },
  {
   "cell_type": "code",
   "execution_count": null,
   "metadata": {},
   "outputs": [],
   "source": [
    "%%local\n",
    "import shapely.wkt\n",
    "import geojson\n",
    "\n",
    "def df_to_geojson(df, geom='geometry', props=None):\n",
    "    if props is None:\n",
    "        props = [\n",
    "            c for c in df.columns\n",
    "            if c != geom\n",
    "        ]\n",
    "\n",
    "    return geojson.FeatureCollection([\n",
    "        geojson.Feature(\n",
    "            geometry=shapely.wkt.loads(r[geom]),\n",
    "            properties={p: r[p] for p in props}\n",
    "        )\n",
    "        for _, r in df.iterrows()\n",
    "    ])"
   ]
  },
  {
   "cell_type": "code",
   "execution_count": null,
   "metadata": {},
   "outputs": [],
   "source": [
    "%%local\n",
    "gj = df_to_geojson(count_per_zipcode)"
   ]
  },
  {
   "cell_type": "code",
   "execution_count": null,
   "metadata": {},
   "outputs": [],
   "source": [
    "%%local\n",
    "import os\n",
    "from mapboxgl.viz import *\n",
    "from mapboxgl.utils import *\n",
    "\n",
    "# Must be a public token, starting with `pk`\n",
    "token = os.getenv('MAPBOX_ACCESS_TOKEN')"
   ]
  },
  {
   "cell_type": "code",
   "execution_count": null,
   "metadata": {},
   "outputs": [],
   "source": [
    "%%local\n",
    "\n",
    "num_max = count_per_zipcode.num.max()\n",
    "stops = [i * num_max / 4 for i in range(4)]\n",
    "\n",
    "viz = ChoroplethViz(\n",
    "    gj,\n",
    "    style='mapbox://styles/mapbox/dark-v10',\n",
    "    center=(-74.068266, 40.7019673),\n",
    "    zoom=9,\n",
    "    access_token=token,\n",
    "    color_property='num',\n",
    "    color_stops=create_color_stops(stops, colors='YlOrRd'),\n",
    "    color_function_type='interpolate',\n",
    "    line_stroke='solid',\n",
    "    line_width=0.3,\n",
    "    line_color='rgb(128,0,38)',\n",
    "    opacity=0.8,\n",
    "    legend_layout='horizontal',\n",
    "    legend_key_shape='bar',\n",
    "    legend_key_borders_on=False)\n",
    "\n",
    "viz.show()"
   ]
  },
  {
   "cell_type": "code",
   "execution_count": null,
   "metadata": {},
   "outputs": [],
   "source": [
    "%%sql -o count_by_call_type\n",
    "SELECT final_call_type, SUM(num) AS number_of_dispatches\n",
    "FROM (\n",
    "    SELECT CASE WHEN num < 10000 THEN \"other\" ELSE final_call_type END AS final_call_type, num\n",
    "    FROM (\n",
    "        SELECT final_call_type, count(*) as num\n",
    "        FROM dispatch\n",
    "        GROUP BY final_call_type\n",
    "    )\n",
    ")\n",
    "GROUP BY final_call_type\n",
    "ORDER BY final_call_type"
   ]
  },
  {
   "cell_type": "code",
   "execution_count": null,
   "metadata": {},
   "outputs": [],
   "source": [
    "%%local\n",
    "import pandas_bokeh\n",
    "pandas_bokeh.output_notebook()\n",
    "count_by_call_type.set_index(\"final_call_type\").plot_bokeh.pie()"
   ]
  },
  {
   "cell_type": "code",
   "execution_count": null,
   "metadata": {},
   "outputs": [],
   "source": []
  }
 ],
 "metadata": {
  "kernelspec": {
   "display_name": "PySpark",
   "language": "python",
   "name": "pysparkkernel"
  },
  "language_info": {
   "codemirror_mode": {
    "name": "python",
    "version": 3
   },
   "file_extension": ".py",
   "mimetype": "text/x-python",
   "name": "pyspark",
   "pygments_lexer": "python3"
  }
 },
 "nbformat": 4,
 "nbformat_minor": 2
}
