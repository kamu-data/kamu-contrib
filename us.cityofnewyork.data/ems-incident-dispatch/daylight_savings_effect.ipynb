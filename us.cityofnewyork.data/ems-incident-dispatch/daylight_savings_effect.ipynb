{
 "cells": [
  {
   "cell_type": "code",
   "execution_count": null,
   "metadata": {},
   "outputs": [],
   "source": [
    "%load_ext kamu"
   ]
  },
  {
   "cell_type": "code",
   "execution_count": null,
   "metadata": {},
   "outputs": [],
   "source": [
    "%import_dataset us.cityofnewyork.data.ems-incident-dispatch --alias dispatch"
   ]
  },
  {
   "cell_type": "code",
   "execution_count": null,
   "metadata": {},
   "outputs": [],
   "source": [
    "%%sql\n",
    "CREATE OR REPLACE TEMPORARY VIEW dispatch_serious AS (\n",
    "    SELECT\n",
    "        cad_incident_id,\n",
    "        incident_datetime,\n",
    "        initial_call_type,\n",
    "        initial_severity_level_code,\n",
    "        final_call_type,\n",
    "        final_severity_level_code,\n",
    "        first_assignment_datetime,\n",
    "        valid_dispatch_rspns_time_indc,\n",
    "        dispatch_response_seconds_qy,\n",
    "        first_activation_datetime,\n",
    "        first_on_scene_datetime,\n",
    "        valid_incident_rspns_time_indc,\n",
    "        incident_response_seconds_qy,\n",
    "        incident_travel_tm_seconds_qy,\n",
    "        first_to_hosp_datetime,\n",
    "        first_hosp_arrival_datetime,\n",
    "        incident_close_datetime,\n",
    "        held_indicator,\n",
    "        incident_disposition_code,\n",
    "        borough,\n",
    "        incident_dispatch_area,\n",
    "        zipcode,\n",
    "        policeprecinct,\n",
    "        citycouncildistrict,\n",
    "        communitydistrict,\n",
    "        communityschooldistrict,\n",
    "        congressionaldistrict,\n",
    "        reopen_indicator,\n",
    "        special_event_indicator,\n",
    "        standby_indicator,\n",
    "        transfer_indicator\n",
    "    FROM dispatch\n",
    "    WHERE standby_indicator = false \n",
    "        AND transfer_indicator = false\n",
    "        AND special_event_indicator = false\n",
    ")"
   ]
  },
  {
   "cell_type": "code",
   "execution_count": null,
   "metadata": {},
   "outputs": [],
   "source": [
    "%%sql\n",
    "CREATE OR REPLACE TEMPORARY VIEW dst AS (\n",
    "    SELECT DATE(\"2013-03-10\") AS date, \"start\" as dst UNION ALL\n",
    "    SELECT DATE(\"2013-11-03\") AS date, \"end\" as dst UNION ALL\n",
    "    SELECT DATE(\"2014-03-09\") AS date, \"start\" as dst UNION ALL\n",
    "    SELECT DATE(\"2014-11-02\") AS date, \"end\" as dst UNION ALL\n",
    "    SELECT DATE(\"2015-03-08\") AS date, \"start\" as dst UNION ALL\n",
    "    SELECT DATE(\"2015-11-01\") AS date, \"end\" as dst UNION ALL\n",
    "    SELECT DATE(\"2016-03-13\") AS date, \"start\" as dst UNION ALL\n",
    "    SELECT DATE(\"2016-11-06\") AS date, \"end\" as dst UNION ALL\n",
    "    SELECT DATE(\"2017-03-12\") AS date, \"start\" as dst UNION ALL\n",
    "    SELECT DATE(\"2017-11-05\") AS date, \"end\" as dst UNION ALL\n",
    "    SELECT DATE(\"2018-03-11\") AS date, \"start\" as dst UNION ALL\n",
    "    SELECT DATE(\"2018-11-04\") AS date, \"end\" as dst\n",
    ")"
   ]
  },
  {
   "cell_type": "code",
   "execution_count": null,
   "metadata": {},
   "outputs": [],
   "source": [
    "%%sql\n",
    "CREATE OR REPLACE TEMPORARY VIEW groups AS (\n",
    "    SELECT \"week\" as set, \"before\" as offset, -7 as from, 0 as to\n",
    "    UNION ALL\n",
    "    SELECT \"week\" as set, \"after\" as offset, 0 as from, 7 as to\n",
    "    UNION ALL\n",
    "    SELECT \"month\" as set, \"before\" as offset, -30 as from, 0 as to\n",
    "    UNION ALL\n",
    "    SELECT \"month\" as set, \"after\" as offset, 0 as from, 30 as to\n",
    "    UNION ALL\n",
    "    SELECT \"monday\" as set, \"before\" as offset, -6 as from, -5 as to\n",
    "    UNION ALL\n",
    "    SELECT \"monday\" as set, \"after\" as offset, 1 as from, 2 as to\n",
    "    UNION ALL\n",
    "    SELECT \"control_prev_weeks\" as set, \"before\" as offset, -14 as from, -7 as to\n",
    "    UNION ALL\n",
    "    SELECT \"control_prev_weeks\" as set, \"after\" as offset, -7 as from, 0 as to\n",
    "    UNION ALL\n",
    "    SELECT \"control_next_weeks\" as set, \"before\" as offset, 7 as from, 14 as to\n",
    "    UNION ALL\n",
    "    SELECT \"control_next_weeks\" as set, \"after\" as offset, 14 as from, 21 as to\n",
    ")"
   ]
  },
  {
   "cell_type": "code",
   "execution_count": null,
   "metadata": {},
   "outputs": [],
   "source": [
    "%%sql\n",
    "CREATE OR REPLACE TEMPORARY VIEW dst_groups AS (\n",
    "    SELECT g.set, g.offset, d.dst, date_add(d.date, g.from) as from, date_add(d.date, g.to) as to\n",
    "    FROM dst as d\n",
    "    CROSS JOIN groups as g\n",
    ")"
   ]
  },
  {
   "cell_type": "code",
   "execution_count": null,
   "metadata": {},
   "outputs": [],
   "source": [
    "%%sql\n",
    "CREATE OR REPLACE TEMPORARY VIEW labeled AS (\n",
    "    SELECT g.set, g.offset, g.dst, d.*\n",
    "    FROM dst_groups as g\n",
    "    INNER JOIN dispatch_serious as d\n",
    "        ON d.incident_datetime >= g.from AND d.incident_datetime < g.to\n",
    ")"
   ]
  },
  {
   "cell_type": "code",
   "execution_count": null,
   "metadata": {},
   "outputs": [],
   "source": [
    "%%sql\n",
    "CREATE OR REPLACE TEMPORARY VIEW grouped AS (\n",
    "    SELECT set, offset, dst, final_call_type as type, count(*) as count\n",
    "        FROM labeled\n",
    "        GROUP BY set, offset, dst, final_call_type\n",
    ")"
   ]
  },
  {
   "cell_type": "code",
   "execution_count": null,
   "metadata": {},
   "outputs": [],
   "source": [
    "%%sql\n",
    "CREATE OR REPLACE TEMPORARY VIEW deltas AS (\n",
    "    SELECT \n",
    "        bf.set, bf.dst, bf.type, \n",
    "        bf.count as count_before,\n",
    "        af.count as count_after,\n",
    "        (bf.count + af.count) / 2 as count_avg,\n",
    "        (af.count - bf.count) as delta,\n",
    "        (af.count - bf.count) / ((bf.count + af.count) / 2) * 100 as delta_pct\n",
    "    FROM (SELECT * FROM grouped WHERE offset = 'before') as bf\n",
    "    JOIN (SELECT * FROM grouped WHERE offset = 'after') as af\n",
    "        ON bf.set = af.set AND bf.dst = af.dst AND bf.type = af.type\n",
    ")"
   ]
  },
  {
   "cell_type": "code",
   "execution_count": null,
   "metadata": {},
   "outputs": [],
   "source": [
    "%%sql -o plt_data\n",
    "SELECT * FROM deltas"
   ]
  },
  {
   "cell_type": "code",
   "execution_count": null,
   "metadata": {},
   "outputs": [],
   "source": [
    "%%local\n",
    "import pandas_bokeh\n",
    "from bokeh.plotting import figure, show\n",
    "from bokeh.models import ColumnDataSource\n",
    "from bokeh.models.widgets import Select\n",
    "from bokeh.layouts import row, column\n",
    "from bokeh.palettes import Category20\n",
    "\n",
    "pandas_bokeh.output_notebook()\n",
    "\n",
    "types = list(sorted(plt_data.type.unique().tolist()))\n",
    "palette = Category20[20]\n",
    "color_map = {name: palette[i % len(palette)] for i, name in enumerate(types)}\n",
    "\n",
    "def get_data(set):\n",
    "    start = plt_data[(plt_data.set == set) & (plt_data.dst == 'start')].to_dict('list')\n",
    "    end = plt_data[(plt_data.set == set) & (plt_data.dst == 'end')].to_dict('list')\n",
    "    end['count_avg'] = [-v for v in end['count_avg']]\n",
    "    for k in start:\n",
    "        start[k].extend(end[k])\n",
    "    start['color'] = [color_map[t] for t in start['type']]\n",
    "    return start\n",
    "\n",
    "source = ColumnDataSource(data=get_data('control_next_weeks'))\n",
    "\n",
    "tooltips = [\n",
    "    (\"type\", \"@type\"),\n",
    "    (\"before\", \"@count_before\"),\n",
    "    (\"after\", \"@count_after\"),\n",
    "    (\"delta\", \"@delta\"),\n",
    "    (\"delta pct\", \"@delta_pct%\"),\n",
    "]\n",
    "\n",
    "p = figure(tooltips=tooltips)\n",
    "p.circle(source=source, x='delta', y='count_avg', color='color', fill_alpha=0.5, size=8)\n",
    "\n",
    "show(p)"
   ]
  },
  {
   "cell_type": "code",
   "execution_count": null,
   "metadata": {},
   "outputs": [],
   "source": []
  }
 ],
 "metadata": {
  "kernelspec": {
   "display_name": "PySpark",
   "language": "python",
   "name": "pysparkkernel"
  },
  "language_info": {
   "codemirror_mode": {
    "name": "python",
    "version": 3
   },
   "file_extension": ".py",
   "mimetype": "text/x-python",
   "name": "pyspark",
   "pygments_lexer": "python3"
  }
 },
 "nbformat": 4,
 "nbformat_minor": 2
}
